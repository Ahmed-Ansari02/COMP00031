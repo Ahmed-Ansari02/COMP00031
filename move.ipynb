{
 "cells": [
  {
   "cell_type": "code",
   "execution_count": null,
   "metadata": {},
   "outputs": [],
   "source": [
    "from acoustools.Levitator import LevitatorController\n",
    "from acoustools.Utilities import create_points, add_lev_sig, propagate_abs\n",
    "from acoustools.Solvers import wgs"
   ]
  },
  {
   "cell_type": "markdown",
   "metadata": {},
   "source": [
    "Generate move hologram:"
   ]
  },
  {
   "cell_type": "code",
   "execution_count": null,
   "metadata": {},
   "outputs": [],
   "source": [
    "lev = LevitatorController(ids=(73,53))\n",
    "points = []\n",
    "x = []\n",
    "for i in range(200):\n",
    "\n",
    "    x.append(i)\n",
    "    points.append(wgs(create_points(1,1,x=0,y=0.0001*i,z=0)))\n",
    "\n",
    "rev_points = points[::-1]\n",
    "lev.set_frame_rate(200)"
   ]
  },
  {
   "cell_type": "markdown",
   "metadata": {},
   "source": [
    "Move:"
   ]
  },
  {
   "cell_type": "code",
   "execution_count": null,
   "metadata": {},
   "outputs": [],
   "source": [
    "lev.levitate(points[0])\n",
    "input(\"press return to continue\")\n",
    "while True:\n",
    "    lev.levitate(points)\n",
    "    print(\"press enter to backward\")\n",
    "    input()\n",
    "    lev.levitate(rev_points)\n",
    "    print(\"press enter to forward\")\n",
    "    input()\n",
    "\n"
   ]
  },
  {
   "cell_type": "markdown",
   "metadata": {},
   "source": [
    "Turn off the levitator:"
   ]
  },
  {
   "cell_type": "code",
   "execution_count": null,
   "metadata": {},
   "outputs": [],
   "source": [
    "lev.turn_off()"
   ]
  }
 ],
 "metadata": {
  "kernelspec": {
   "display_name": "acoustools (3.11.2)",
   "language": "python",
   "name": "python3"
  },
  "language_info": {
   "name": "python",
   "version": "3.11.2"
  }
 },
 "nbformat": 4,
 "nbformat_minor": 2
}
